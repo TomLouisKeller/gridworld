{
 "cells": [
  {
   "cell_type": "code",
   "execution_count": 1,
   "metadata": {},
   "outputs": [],
   "source": [
    "import numpy as np\n",
    "import sys\n",
    "from collections import defaultdict\n",
    "from gridworld_env import Gridworld\n",
    "from gridworld_env import Action"
   ]
  },
  {
   "cell_type": "code",
   "execution_count": 2,
   "metadata": {},
   "outputs": [],
   "source": [
    "NUM_EPISODES = 500_000\n",
    "GAMMA = 0.95"
   ]
  },
  {
   "cell_type": "code",
   "execution_count": 3,
   "metadata": {},
   "outputs": [],
   "source": [
    "def generate_episode_with_random_policy(env):\n",
    "    episode = []\n",
    "    state = env.reset()\n",
    "    done = False\n",
    "    while not done:\n",
    "        action = np.random.randint(0, env.action_space.n)\n",
    "        next_state, reward, done, info = env.step(action)\n",
    "        episode.append((state, action, reward))\n",
    "        state = next_state\n",
    "    return episode"
   ]
  },
  {
   "cell_type": "code",
   "execution_count": 4,
   "metadata": {},
   "outputs": [],
   "source": [
    "def mc_prediction_q(env, num_episodes, generate_episode, gamma=1.0):\n",
    "    N = defaultdict(lambda: np.zeros(env.action_space.n, dtype=int))\n",
    "    Q = defaultdict(lambda: np.zeros(env.action_space.n))\n",
    "\n",
    "    for i_episode in range(1, num_episodes+1):\n",
    "        # monitor progress\n",
    "        if i_episode % 1000 == 0:\n",
    "            print(\"\\rEpisode {}/{}\".format(i_episode, num_episodes), end=\"\")\n",
    "            sys.stdout.flush()\n",
    "        \n",
    "        episode = generate_episode(env)\n",
    "        g = 0.0\n",
    "        states, _, _ = zip(*episode)\n",
    "        for step in reversed(range(0,len(episode))):\n",
    "            (state, action, reward) = episode[step]\n",
    "            g = reward + gamma * g\n",
    "            # Is this the first visit? (First-Visit-MC)\n",
    "            if not state in states[:step]:\n",
    "                N[state][action] += 1\n",
    "                Q[state][action] = Q[state][action] + (1/N[state][action])*(g - Q[state][action])\n",
    "    return Q"
   ]
  },
  {
   "cell_type": "code",
   "execution_count": 5,
   "metadata": {},
   "outputs": [],
   "source": [
    "env = Gridworld()"
   ]
  },
  {
   "cell_type": "code",
   "execution_count": 6,
   "metadata": {},
   "outputs": [],
   "source": [
    "episode = generate_episode_with_random_policy(env)\n",
    "# episode"
   ]
  },
  {
   "cell_type": "code",
   "execution_count": 7,
   "metadata": {},
   "outputs": [
    {
     "data": {
      "text/plain": [
       "array([[ 0,  1,  2,  3],\n",
       "       [ 4,  5,  6,  7],\n",
       "       [ 8,  9, 10, 11],\n",
       "       [12, 13, 14, 15]])"
      ]
     },
     "execution_count": 7,
     "metadata": {},
     "output_type": "execute_result"
    }
   ],
   "source": [
    "env.gridworld"
   ]
  },
  {
   "cell_type": "code",
   "execution_count": 8,
   "metadata": {},
   "outputs": [
    {
     "data": {
      "text/plain": [
       "array([[ 0,  1,  4,  0],\n",
       "       [ 1,  2,  5,  0],\n",
       "       [ 2,  3,  6,  1],\n",
       "       [ 3,  3,  7,  2],\n",
       "       [ 0,  5,  8,  4],\n",
       "       [ 1,  6,  9,  4],\n",
       "       [ 2,  7, 10,  5],\n",
       "       [ 3,  7, 11,  6],\n",
       "       [ 4,  9, 12,  8],\n",
       "       [ 5, 10, 13,  8],\n",
       "       [ 6, 11, 14,  9],\n",
       "       [ 7, 11, 15, 10],\n",
       "       [ 8, 13, 12, 12],\n",
       "       [ 9, 14, 13, 12],\n",
       "       [10, 15, 14, 13],\n",
       "       [11, 15, 15, 14]])"
      ]
     },
     "execution_count": 8,
     "metadata": {},
     "output_type": "execute_result"
    }
   ],
   "source": [
    "env.state_transition_matrix"
   ]
  },
  {
   "cell_type": "code",
   "execution_count": 9,
   "metadata": {},
   "outputs": [
    {
     "name": "stdout",
     "output_type": "stream",
     "text": [
      "Episode 500000/500000"
     ]
    }
   ],
   "source": [
    "Q = mc_prediction_q(env, NUM_EPISODES, generate_episode_with_random_policy, GAMMA)"
   ]
  },
  {
   "cell_type": "code",
   "execution_count": 10,
   "metadata": {},
   "outputs": [
    {
     "data": {
      "text/plain": [
       "defaultdict(<function __main__.mc_prediction_q.<locals>.<lambda>()>,\n",
       "            {11: array([-13.69428612,  -9.81376499,  -1.        , -12.67047184]),\n",
       "             12: array([-15.68273573, -13.6870906 , -15.18554731, -15.24515404]),\n",
       "             5: array([-16.27638422, -14.74814555, -14.71993336, -16.27729394]),\n",
       "             8: array([-16.27500871, -14.7452153 , -15.19658031, -15.68980547]),\n",
       "             9: array([-15.7183528 , -12.63791842, -13.71120211, -15.70652665]),\n",
       "             13: array([-14.71638925,  -9.83524602, -13.67908661, -15.19759253]),\n",
       "             14: array([-12.67090367,  -1.        ,  -9.80222408, -13.69170729]),\n",
       "             10: array([-14.73123719,  -9.78892882,  -9.81755556, -14.69511207]),\n",
       "             6: array([-15.71003863, -13.69121185, -12.6647177 , -15.72746507]),\n",
       "             7: array([-15.21528   , -13.70422903,  -9.84463601, -14.71016915]),\n",
       "             3: array([-15.19152243, -15.2509048 , -13.7252471 , -15.72149516]),\n",
       "             2: array([-15.7184677 , -15.22398814, -14.70709667, -16.31611187]),\n",
       "             1: array([-16.27900575, -15.70818858, -15.73201726, -16.64770904]),\n",
       "             4: array([-16.62138556, -15.7273845 , -15.70074636, -16.29790415]),\n",
       "             0: array([-16.64941193, -16.30570023, -16.26809874, -16.64033776])})"
      ]
     },
     "execution_count": 10,
     "metadata": {},
     "output_type": "execute_result"
    }
   ],
   "source": [
    "Q"
   ]
  },
  {
   "cell_type": "code",
   "execution_count": 11,
   "metadata": {},
   "outputs": [],
   "source": [
    "V = np.zeros(env.observation_space.n)\n",
    "for k,v in Q.items():\n",
    "    V[k] = np.round(np.max(v),0)\n",
    "V = V.reshape((4, 4))"
   ]
  },
  {
   "cell_type": "code",
   "execution_count": 12,
   "metadata": {},
   "outputs": [
    {
     "data": {
      "text/plain": [
       "array([[-16., -16., -15., -14.],\n",
       "       [-16., -15., -13., -10.],\n",
       "       [-15., -13., -10.,  -1.],\n",
       "       [-14., -10.,  -1.,   0.]])"
      ]
     },
     "execution_count": 12,
     "metadata": {},
     "output_type": "execute_result"
    }
   ],
   "source": [
    "V"
   ]
  }
 ],
 "metadata": {
  "kernelspec": {
   "display_name": "Python 3",
   "language": "python",
   "name": "python3"
  },
  "language_info": {
   "codemirror_mode": {
    "name": "ipython",
    "version": 3
   },
   "file_extension": ".py",
   "mimetype": "text/x-python",
   "name": "python",
   "nbconvert_exporter": "python",
   "pygments_lexer": "ipython3",
   "version": "3.7.7"
  }
 },
 "nbformat": 4,
 "nbformat_minor": 4
}
